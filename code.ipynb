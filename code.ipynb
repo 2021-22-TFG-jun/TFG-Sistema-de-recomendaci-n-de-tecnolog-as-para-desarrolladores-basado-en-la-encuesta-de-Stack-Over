{
 "cells": [
  {
   "cell_type": "code",
   "execution_count": 1,
   "metadata": {},
   "outputs": [],
   "source": [
    "import pandas as pd\n",
    "import networkx as nx\n",
    "import matplotlib.pyplot as plt\n",
    "import math as math\n",
    "import numpy as np"
   ]
  },
  {
   "cell_type": "code",
   "execution_count": 2,
   "metadata": {},
   "outputs": [],
   "source": [
    "path='stack-overflow-developer-survey-2021'\n",
    "public=pd.read_csv(path+'/survey_results_public.csv')"
   ]
  },
  {
   "cell_type": "code",
   "execution_count": 3,
   "metadata": {
    "scrolled": true
   },
   "outputs": [
    {
     "data": {
      "text/plain": [
       "Index(['ResponseId', 'MainBranch', 'Employment', 'Country', 'US_State',\n",
       "       'UK_Country', 'EdLevel', 'Age1stCode', 'LearnCode', 'YearsCode',\n",
       "       'YearsCodePro', 'DevType', 'OrgSize', 'Currency', 'CompTotal',\n",
       "       'CompFreq', 'LanguageHaveWorkedWith', 'LanguageWantToWorkWith',\n",
       "       'DatabaseHaveWorkedWith', 'DatabaseWantToWorkWith',\n",
       "       'PlatformHaveWorkedWith', 'PlatformWantToWorkWith',\n",
       "       'WebframeHaveWorkedWith', 'WebframeWantToWorkWith',\n",
       "       'MiscTechHaveWorkedWith', 'MiscTechWantToWorkWith',\n",
       "       'ToolsTechHaveWorkedWith', 'ToolsTechWantToWorkWith',\n",
       "       'NEWCollabToolsHaveWorkedWith', 'NEWCollabToolsWantToWorkWith', 'OpSys',\n",
       "       'NEWStuck', 'NEWSOSites', 'SOVisitFreq', 'SOAccount', 'SOPartFreq',\n",
       "       'SOComm', 'NEWOtherComms', 'Age', 'Gender', 'Trans', 'Sexuality',\n",
       "       'Ethnicity', 'Accessibility', 'MentalHealth', 'SurveyLength',\n",
       "       'SurveyEase', 'ConvertedCompYearly'],\n",
       "      dtype='object')"
      ]
     },
     "execution_count": 3,
     "metadata": {},
     "output_type": "execute_result"
    }
   ],
   "source": [
    "public.columns"
   ]
  },
  {
   "cell_type": "code",
   "execution_count": 4,
   "metadata": {},
   "outputs": [
    {
     "data": {
      "text/html": [
       "<div>\n",
       "<style scoped>\n",
       "    .dataframe tbody tr th:only-of-type {\n",
       "        vertical-align: middle;\n",
       "    }\n",
       "\n",
       "    .dataframe tbody tr th {\n",
       "        vertical-align: top;\n",
       "    }\n",
       "\n",
       "    .dataframe thead th {\n",
       "        text-align: right;\n",
       "    }\n",
       "</style>\n",
       "<table border=\"1\" class=\"dataframe\">\n",
       "  <thead>\n",
       "    <tr style=\"text-align: right;\">\n",
       "      <th></th>\n",
       "      <th>ResponseId</th>\n",
       "      <th>ToolsTechHaveWorkedWith</th>\n",
       "    </tr>\n",
       "  </thead>\n",
       "  <tbody>\n",
       "    <tr>\n",
       "      <th>0</th>\n",
       "      <td>1</td>\n",
       "      <td>NaN</td>\n",
       "    </tr>\n",
       "    <tr>\n",
       "      <th>1</th>\n",
       "      <td>2</td>\n",
       "      <td>Docker;Git;Yarn</td>\n",
       "    </tr>\n",
       "    <tr>\n",
       "      <th>2</th>\n",
       "      <td>3</td>\n",
       "      <td>NaN</td>\n",
       "    </tr>\n",
       "    <tr>\n",
       "      <th>3</th>\n",
       "      <td>4</td>\n",
       "      <td>NaN</td>\n",
       "    </tr>\n",
       "    <tr>\n",
       "      <th>4</th>\n",
       "      <td>5</td>\n",
       "      <td>Docker;Git;Kubernetes;Yarn</td>\n",
       "    </tr>\n",
       "    <tr>\n",
       "      <th>...</th>\n",
       "      <td>...</td>\n",
       "      <td>...</td>\n",
       "    </tr>\n",
       "    <tr>\n",
       "      <th>83434</th>\n",
       "      <td>83435</td>\n",
       "      <td>Docker;Git</td>\n",
       "    </tr>\n",
       "    <tr>\n",
       "      <th>83435</th>\n",
       "      <td>83436</td>\n",
       "      <td>Git;Unity 3D;Unreal Engine</td>\n",
       "    </tr>\n",
       "    <tr>\n",
       "      <th>83436</th>\n",
       "      <td>83437</td>\n",
       "      <td>Ansible;Docker;Git;Terraform</td>\n",
       "    </tr>\n",
       "    <tr>\n",
       "      <th>83437</th>\n",
       "      <td>83438</td>\n",
       "      <td>Ansible;Docker;Git;Terraform</td>\n",
       "    </tr>\n",
       "    <tr>\n",
       "      <th>83438</th>\n",
       "      <td>83439</td>\n",
       "      <td>Docker;Git</td>\n",
       "    </tr>\n",
       "  </tbody>\n",
       "</table>\n",
       "<p>83439 rows × 2 columns</p>\n",
       "</div>"
      ],
      "text/plain": [
       "       ResponseId       ToolsTechHaveWorkedWith\n",
       "0               1                           NaN\n",
       "1               2               Docker;Git;Yarn\n",
       "2               3                           NaN\n",
       "3               4                           NaN\n",
       "4               5    Docker;Git;Kubernetes;Yarn\n",
       "...           ...                           ...\n",
       "83434       83435                    Docker;Git\n",
       "83435       83436    Git;Unity 3D;Unreal Engine\n",
       "83436       83437  Ansible;Docker;Git;Terraform\n",
       "83437       83438  Ansible;Docker;Git;Terraform\n",
       "83438       83439                    Docker;Git\n",
       "\n",
       "[83439 rows x 2 columns]"
      ]
     },
     "execution_count": 4,
     "metadata": {},
     "output_type": "execute_result"
    }
   ],
   "source": [
    "public.loc[:, [\"ResponseId\", \"ToolsTechHaveWorkedWith\"]]"
   ]
  },
  {
   "cell_type": "code",
   "execution_count": 5,
   "metadata": {},
   "outputs": [
    {
     "name": "stdout",
     "output_type": "stream",
     "text": [
      "['Docker', 'Git', 'Kubernetes', 'Yarn', 'Unity 3D', 'Flow', 'Ansible', 'Xamarin', 'Unreal Engine', 'Puppet', 'Terraform', 'Deno', 'Chef', 'Pulumi']\n"
     ]
    }
   ],
   "source": [
    "\"\"\"\n",
    "G = nx.Graph()\n",
    "for a in range (len(public)):\n",
    "    nodoLenguaje = public.to_numpy()[a][26]\n",
    "    \n",
    "    if str(nodoLenguaje) != \"nan\":\n",
    "        listaLenguajes = nodoLenguaje.split(';')\n",
    "        if len(listaLenguajes) == 2: #umbral de poda: personas que trabajan con 2 lenguajes\n",
    "            for i in range(len(listaLenguajes)):\n",
    "                j=i+1\n",
    "                G.add_node(listaLenguajes[i])\n",
    "                while j < len(listaLenguajes):\n",
    "                    if (listaLenguajes[i], listaLenguajes[j]) in G.edges():\n",
    "                        valor = G[listaLenguajes[i]][listaLenguajes[j]]\n",
    "                        peso = valor['weight']\n",
    "                        pesoN = peso+1\n",
    "                        G[listaLenguajes[i]][listaLenguajes[j]]['weight'] = pesoN\n",
    "                    else:    \n",
    "                        G.add_edge(listaLenguajes[i], listaLenguajes[j])\n",
    "                        G[listaLenguajes[i]][listaLenguajes[j]]['weight'] = 1\n",
    "                    j+=1\n",
    "\n",
    "#Guardar grafo\n",
    "nx.write_graphml(G, \"lenguajesPersonasTrabajan2lenguajes.graphml\")\n",
    "\"\"\"\n",
    "\n",
    "#Cargar grafo\n",
    "G = nx.read_graphml(\"lenguajesPersonasTrabajan2lenguajes.graphml\")\n",
    "print(G.nodes)"
   ]
  },
  {
   "cell_type": "code",
   "execution_count": 6,
   "metadata": {
    "scrolled": true
   },
   "outputs": [
    {
     "data": {
      "image/png": "[encoded data removed]",
      "text/plain": [
       "<Figure size 432x288 with 1 Axes>"
      ]
     },
     "metadata": {},
     "output_type": "display_data"
    }
   ],
   "source": [
    "pos = nx.circular_layout(G)\n",
    "nx.draw(G, pos, with_labels=True, font_weight='bold')\n",
    "#labels = nx.get_edge_attributes(G, 'weight')\n",
    "#nx.draw_networkx_edge_labels(G, pos, edge_labels=labels)"
   ]
  },
  {
   "cell_type": "code",
   "execution_count": 7,
   "metadata": {},
   "outputs": [
    {
     "data": {
      "text/plain": [
       "0.7142857142857143"
      ]
     },
     "execution_count": 7,
     "metadata": {},
     "output_type": "execute_result"
    }
   ],
   "source": [
    "\"\"\"\n",
    "La densidad de un grafo es una propiedad que determina la proporción de aristas que posee. \n",
    "Un grafo denso es un grafo en el que el número de aristas es cercano al número máximo de aristas posibles, es decir, \n",
    "a las que tendría si el grafo fuera completo.\n",
    "#https://es.wikipedia.org/wiki/Densidad_(teor%C3%ADa_de_grafos)\n",
    "\"\"\"\n",
    "nx.density(G)"
   ]
  },
  {
   "cell_type": "code",
   "execution_count": 23,
   "metadata": {},
   "outputs": [
    {
     "data": {
      "text/plain": [
       "[['Ansible',\n",
       "  'Deno',\n",
       "  'Docker',\n",
       "  'Flow',\n",
       "  'Git',\n",
       "  'Kubernetes',\n",
       "  'Puppet',\n",
       "  'Terraform',\n",
       "  'Unity 3D',\n",
       "  'Unreal Engine',\n",
       "  'Xamarin',\n",
       "  'Yarn'],\n",
       " ['Chef'],\n",
       " ['Pulumi']]"
      ]
     },
     "execution_count": 23,
     "metadata": {},
     "output_type": "execute_result"
    }
   ],
   "source": [
    "from networkx.algorithms import community\n",
    "\n",
    "communities_generator = community.girvan_newman(G)\n",
    "top_level_communities = next(communities_generator)\n",
    "next_level_communities = next(communities_generator)\n",
    "sorted(map(sorted, next_level_communities))"
   ]
  },
  {
   "cell_type": "code",
   "execution_count": 9,
   "metadata": {},
   "outputs": [
    {
     "data": {
      "text/plain": [
       "({'Ansible', 'Docker', 'Git', 'Kubernetes', 'Unity 3D', 'Xamarin', 'Yarn'},\n",
       " {'Chef', 'Deno', 'Flow', 'Pulumi', 'Puppet', 'Terraform', 'Unreal Engine'})"
      ]
     },
     "execution_count": 9,
     "metadata": {},
     "output_type": "execute_result"
    }
   ],
   "source": [
    "community.kernighan_lin_bisection(G)"
   ]
  },
  {
   "cell_type": "code",
   "execution_count": 33,
   "metadata": {},
   "outputs": [
    {
     "data": {
      "text/plain": [
       "0.7577319587628866"
      ]
     },
     "execution_count": 33,
     "metadata": {},
     "output_type": "execute_result"
    }
   ],
   "source": [
    "nx.transitivity(G)"
   ]
  },
  {
   "cell_type": "code",
   "execution_count": 36,
   "metadata": {},
   "outputs": [
    {
     "data": {
      "text/plain": [
       "0.8090806019377449"
      ]
     },
     "execution_count": 36,
     "metadata": {},
     "output_type": "execute_result"
    }
   ],
   "source": [
    "nx.average_clustering(G)"
   ]
  },
  {
   "cell_type": "code",
   "execution_count": 10,
   "metadata": {},
   "outputs": [
    {
     "data": {
      "text/plain": [
       "{'Docker': 0.2592558512972482,\n",
       " 'Git': 0.43196308021757285,\n",
       " 'Kubernetes': 0.027467332402058762,\n",
       " 'Yarn': 0.07204612234903382,\n",
       " 'Unity 3D': 0.059778585476778535,\n",
       " 'Flow': 0.015087174803109128,\n",
       " 'Ansible': 0.021740125685075842,\n",
       " 'Xamarin': 0.026695396221037473,\n",
       " 'Unreal Engine': 0.01916590538646975,\n",
       " 'Puppet': 0.0138156335925747,\n",
       " 'Terraform': 0.01611527011632724,\n",
       " 'Deno': 0.013269064498615079,\n",
       " 'Chef': 0.012293648835515678,\n",
       " 'Pulumi': 0.011306809118583052}"
      ]
     },
     "execution_count": 10,
     "metadata": {},
     "output_type": "execute_result"
    }
   ],
   "source": [
    "#PageRank computes a ranking of the nodes in the graph G based on the structure of the incoming links.\n",
    "#https://networkx.org/documentation/stable/reference/algorithms/generated/networkx.algorithms.link_analysis.pagerank_alg.pagerank.html#networkx.algorithms.link_analysis.pagerank_alg.pagerank\n",
    "nx.pagerank(G)"
   ]
  },
  {
   "cell_type": "code",
   "execution_count": 11,
   "metadata": {},
   "outputs": [
    {
     "data": {
      "text/plain": [
       "DegreeView({'Docker': 13, 'Git': 13, 'Kubernetes': 8, 'Yarn': 11, 'Unity 3D': 12, 'Flow': 11, 'Ansible': 11, 'Xamarin': 8, 'Unreal Engine': 6, 'Puppet': 10, 'Terraform': 8, 'Deno': 7, 'Chef': 6, 'Pulumi': 6})"
      ]
     },
     "execution_count": 11,
     "metadata": {},
     "output_type": "execute_result"
    }
   ],
   "source": [
    "nx.degree(G)"
   ]
  },
  {
   "cell_type": "code",
   "execution_count": 26,
   "metadata": {},
   "outputs": [
    {
     "data": {
      "text/plain": [
       "{'Docker': 1.0,\n",
       " 'Git': 1.0,\n",
       " 'Kubernetes': 0.6153846153846154,\n",
       " 'Yarn': 0.8461538461538463,\n",
       " 'Unity 3D': 0.9230769230769231,\n",
       " 'Flow': 0.8461538461538463,\n",
       " 'Ansible': 0.8461538461538463,\n",
       " 'Xamarin': 0.6153846153846154,\n",
       " 'Unreal Engine': 0.46153846153846156,\n",
       " 'Puppet': 0.7692307692307693,\n",
       " 'Terraform': 0.6153846153846154,\n",
       " 'Deno': 0.5384615384615385,\n",
       " 'Chef': 0.46153846153846156,\n",
       " 'Pulumi': 0.46153846153846156}"
      ]
     },
     "execution_count": 26,
     "metadata": {},
     "output_type": "execute_result"
    }
   ],
   "source": [
    "nx.degree_centrality(G)"
   ]
  },
  {
   "cell_type": "code",
   "execution_count": 12,
   "metadata": {},
   "outputs": [
    {
     "data": {
      "text/plain": [
       "{'Docker': 0.0647028897028897,\n",
       " 'Git': 0.0647028897028897,\n",
       " 'Kubernetes': 0.00641025641025641,\n",
       " 'Yarn': 0.02837810337810338,\n",
       " 'Unity 3D': 0.04504477004477004,\n",
       " 'Flow': 0.04349816849816849,\n",
       " 'Ansible': 0.028591778591778593,\n",
       " 'Xamarin': 0.005698005698005697,\n",
       " 'Unreal Engine': 0.0014245014245014244,\n",
       " 'Puppet': 0.031532356532356524,\n",
       " 'Terraform': 0.003256003256003256,\n",
       " 'Deno': 0.0047008547008547015,\n",
       " 'Chef': 0.0021367521367521365,\n",
       " 'Pulumi': 0.003256003256003256}"
      ]
     },
     "execution_count": 12,
     "metadata": {},
     "output_type": "execute_result"
    }
   ],
   "source": [
    "#Betweenness centrality is a way of detecting the amount of influence a node has over the flow of information in a graph.\n",
    "#https://neo4j.com/docs/graph-data-science/1.8/algorithms/betweenness-centrality/\n",
    "nx.betweenness_centrality(G)"
   ]
  },
  {
   "cell_type": "code",
   "execution_count": 13,
   "metadata": {},
   "outputs": [
    {
     "data": {
      "text/plain": [
       "{'Docker': 1.0,\n",
       " 'Git': 1.0,\n",
       " 'Kubernetes': 0.7222222222222222,\n",
       " 'Yarn': 0.8666666666666667,\n",
       " 'Unity 3D': 0.9285714285714286,\n",
       " 'Flow': 0.8666666666666667,\n",
       " 'Ansible': 0.8666666666666667,\n",
       " 'Xamarin': 0.7222222222222222,\n",
       " 'Unreal Engine': 0.65,\n",
       " 'Puppet': 0.8125,\n",
       " 'Terraform': 0.7222222222222222,\n",
       " 'Deno': 0.6842105263157895,\n",
       " 'Chef': 0.65,\n",
       " 'Pulumi': 0.65}"
      ]
     },
     "execution_count": 13,
     "metadata": {},
     "output_type": "execute_result"
    }
   ],
   "source": [
    "#Closeness centrality is a way of detecting nodes that are able to spread information very efficiently through a graph.\n",
    "#https://neo4j.com/docs/graph-data-science/1.8/algorithms/closeness-centrality/\n",
    "nx.closeness_centrality(G)"
   ]
  },
  {
   "cell_type": "code",
   "execution_count": 14,
   "metadata": {},
   "outputs": [
    {
     "data": {
      "text/plain": [
       "{'Docker': 0.33875468617304844,\n",
       " 'Git': 0.33875468617304844,\n",
       " 'Kubernetes': 0.23768412551521326,\n",
       " 'Yarn': 0.30464636180267146,\n",
       " 'Unity 3D': 0.3219021602061751,\n",
       " 'Flow': 0.29405322894408364,\n",
       " 'Ansible': 0.30485937678837194,\n",
       " 'Xamarin': 0.24059036144708804,\n",
       " 'Unreal Engine': 0.18419528294275006,\n",
       " 'Puppet': 0.272489635054822,\n",
       " 'Terraform': 0.24604402983954538,\n",
       " 'Deno': 0.21063374882695887,\n",
       " 'Chef': 0.18444125094443575,\n",
       " 'Pulumi': 0.18213948717942752}"
      ]
     },
     "execution_count": 14,
     "metadata": {},
     "output_type": "execute_result"
    }
   ],
   "source": [
    "\"\"\"\n",
    "Eigenvector Centrality is an algorithm that measures the transitive influence of nodes. \n",
    "Relationships originating from high-scoring nodes contribute more to the score of a node than connections from \n",
    "low-scoring nodes. A high eigenvector score means that a node is connected to many nodes who themselves have high scores.\n",
    "\"\"\"\n",
    "#https://neo4j.com/docs/graph-data-science/1.8/algorithms/eigenvector-centrality/\n",
    "nx.eigenvector_centrality(G)"
   ]
  },
  {
   "cell_type": "code",
   "execution_count": 15,
   "metadata": {},
   "outputs": [],
   "source": [
    "pesos = {}\n",
    "for edge in G.edges():\n",
    "    peso = G[edge[0]][edge[1]]['weight']\n",
    "    pesos[edge] = peso\n",
    "    \n",
    "#pesos"
   ]
  },
  {
   "cell_type": "code",
   "execution_count": 16,
   "metadata": {},
   "outputs": [
    {
     "name": "stdout",
     "output_type": "stream",
     "text": [
      "4.642857142857143\n",
      "El grado medio es: 9.285714285714286\n",
      "El máximo grado es: 13\n",
      "El mínimo grado es: 6\n"
     ]
    }
   ],
   "source": [
    "degree=np.array([x[1] for x in G.degree()])\n",
    "gradoMed=0\n",
    "cont=0\n",
    "for i in degree:\n",
    "    gradoMed+=i\n",
    "    cont+=1\n",
    "gradoMed=gradoMed/cont\n",
    "print(len(G.edges())/len(G.nodes()))\n",
    "print(\"El grado medio es:\",gradoMed)\n",
    "print(\"El máximo grado es:\",degree.max())\n",
    "print(\"El mínimo grado es:\",degree.min())"
   ]
  },
  {
   "cell_type": "code",
   "execution_count": 17,
   "metadata": {},
   "outputs": [
    {
     "data": {
      "text/plain": [
       "Text(0.5, 1.0, 'degree distribution')"
      ]
     },
     "execution_count": 17,
     "metadata": {},
     "output_type": "execute_result"
    },
    {
     "data": {
      "image/png": "[encoded data removed]",
      "text/plain": [
       "<Figure size 432x288 with 1 Axes>"
      ]
     },
     "metadata": {
      "needs_background": "light"
     },
     "output_type": "display_data"
    }
   ],
   "source": [
    "(n,x,p)=plt.hist(degree)\n",
    "plt.xlabel('degree')\n",
    "plt.ylabel('lenguajes')\n",
    "plt.title('degree distribution')"
   ]
  },
  {
   "cell_type": "code",
   "execution_count": 18,
   "metadata": {},
   "outputs": [],
   "source": [
    "def calculaModularidad(G, particion):\n",
    "    valor = 0\n",
    "    i=0\n",
    "    lista = []\n",
    "    for i in particion:\n",
    "        for j in i:\n",
    "            lista.append(j)\n",
    "    \n",
    "    if len(lista)==len(G.nodes()) and len(particion)==1:\n",
    "        return 0\n",
    "    elif len(lista) == 1:\n",
    "        valor = -1/math.pow(2*len(G.edges()),2)\n",
    "        suma=0\n",
    "        for i in lista:\n",
    "            suma+=math.pow(G.degree(i),2)\n",
    "        return(suma*valor)\n",
    "    else:\n",
    "        suma=0\n",
    "        x=0\n",
    "        for i in particion:\n",
    "            long=len(i)\n",
    "            valA = long/len(G.edges())\n",
    "            se = set()\n",
    "            for j in i:\n",
    "                se.add(j[0])\n",
    "                se.add(j[1])\n",
    "            \n",
    "            su=0\n",
    "            for s in se:\n",
    "                su+=G.degree(s)\n",
    "            valB=su/(2*len(G.edges()))\n",
    "            \n",
    "            valB = math.pow(valB,2)\n",
    "            x = valA - valB\n",
    "            suma+=x\n",
    "        return suma"
   ]
  },
  {
   "cell_type": "code",
   "execution_count": 19,
   "metadata": {
    "scrolled": true
   },
   "outputs": [
    {
     "name": "stdout",
     "output_type": "stream",
     "text": [
      "La modularidad correspondiente al nodo Docker es: -0.01\n",
      "La modularidad correspondiente al nodo Git es: -0.01\n",
      "La modularidad correspondiente al nodo Kubernetes es: -0.00378698224852071\n",
      "La modularidad correspondiente al nodo Yarn es: -0.007159763313609468\n",
      "La modularidad correspondiente al nodo Unity 3D es: -0.008520710059171597\n",
      "La modularidad correspondiente al nodo Flow es: -0.007159763313609468\n",
      "La modularidad correspondiente al nodo Ansible es: -0.007159763313609468\n",
      "La modularidad correspondiente al nodo Xamarin es: -0.00378698224852071\n",
      "La modularidad correspondiente al nodo Unreal Engine es: -0.0021301775147928993\n",
      "La modularidad correspondiente al nodo Puppet es: -0.005917159763313609\n",
      "La modularidad correspondiente al nodo Terraform es: -0.00378698224852071\n",
      "La modularidad correspondiente al nodo Deno es: -0.0028994082840236688\n",
      "La modularidad correspondiente al nodo Chef es: -0.0021301775147928993\n",
      "La modularidad correspondiente al nodo Pulumi es: -0.0021301775147928993\n"
     ]
    }
   ],
   "source": [
    "for nodo in G.nodes():\n",
    "    print(\"La modularidad correspondiente al nodo\", nodo ,\"es:\",calculaModularidad(G,[{nodo}]))"
   ]
  },
  {
   "cell_type": "code",
   "execution_count": null,
   "metadata": {},
   "outputs": [],
   "source": []
  },
  {
   "cell_type": "code",
   "execution_count": null,
   "metadata": {},
   "outputs": [],
   "source": [
    "#https://programminghistorian.org/es/lecciones/crear-y-ver-archivos-html-con-python\n",
    "#https://docs.python.org/es/3/library/webbrowser.html\n",
    "#https://www.geeksforgeeks.org/creating-and-viewing-html-files-with-python/\n",
    "#https://www.geeksforgeeks.org/how-to-write-to-an-html-file-in-python/\n",
    "#https://pandas.pydata.org/docs/user_guide/index.html\n",
    "#https://networkx.org/documentation/stable/tutorial.html\n",
    "#https://www.ellaberintodefalken.com/2020/02/grafos-con-networkx.html //guardar grafos para no cargarlos desde 0\n",
    "#https://www.codegrepper.com/code-examples/python/frameworks/file-path-in-python/networkx+draw+graph+with+weight //peso de los arcos\n",
    "\n",
    "import webbrowser\n",
    "\n",
    "f = open('holamundo.html','w')\n",
    "\n",
    "mensaje = \"\"\"<html>\n",
    "<head>HEAD</head>\n",
    "<body><p>Hola Mundo!</p></body>\n",
    "</html>\"\"\"\n",
    "\n",
    "mensaje2 = \"\"\"<html>\n",
    "<head>HEAD</head>\n",
    "<body><p>Hola Mundo2!</p></body>\n",
    "</html>\"\"\"\n",
    "\n",
    "f.write(mensaje)\n",
    "f.write(mensaje2)\n",
    "f.close()\n",
    "\n",
    "#webbrowser.open_new_tab('holamundo.html')"
   ]
  },
  {
   "cell_type": "code",
   "execution_count": null,
   "metadata": {},
   "outputs": [],
   "source": []
  },
  {
   "cell_type": "code",
   "execution_count": null,
   "metadata": {},
   "outputs": [],
   "source": []
  }
 ],
 "metadata": {
  "kernelspec": {
   "display_name": "Python 3",
   "language": "python",
   "name": "python3"
  },
  "language_info": {
   "codemirror_mode": {
    "name": "ipython",
    "version": 3
   },
   "file_extension": ".py",
   "mimetype": "text/x-python",
   "name": "python",
   "nbconvert_exporter": "python",
   "pygments_lexer": "ipython3",
   "version": "3.8.3"
  }
 },
 "nbformat": 4,
 "nbformat_minor": 4
}
