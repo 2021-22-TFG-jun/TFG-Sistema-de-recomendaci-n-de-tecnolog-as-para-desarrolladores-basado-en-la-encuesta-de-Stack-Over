{
 "cells": [
  {
   "cell_type": "code",
   "execution_count": 1,
   "metadata": {},
   "outputs": [
    {
     "name": "stdout",
     "output_type": "stream",
     "text": [
      "Requirement already satisfied: python-louvain in c:\\users\\enrique\\anaconda3\\lib\\site-packages (0.16)\n",
      "Requirement already satisfied: networkx in c:\\users\\enrique\\anaconda3\\lib\\site-packages (from python-louvain) (2.4)\n",
      "Requirement already satisfied: numpy in c:\\users\\enrique\\anaconda3\\lib\\site-packages (from python-louvain) (1.18.5)\n",
      "Requirement already satisfied: decorator>=4.3.0 in c:\\users\\enrique\\anaconda3\\lib\\site-packages (from networkx->python-louvain) (4.4.2)\n",
      "Note: you may need to restart the kernel to use updated packages.\n"
     ]
    }
   ],
   "source": [
    "pip install python-louvain"
   ]
  },
  {
   "cell_type": "code",
   "execution_count": 2,
   "metadata": {},
   "outputs": [],
   "source": [
    "import pandas as pd\n",
    "import networkx as nx\n",
    "import matplotlib.pyplot as plt\n",
    "import math as math\n",
    "import numpy as np\n",
    "import community as com\n",
    "import matplotlib.cm as cm\n",
    "import itertools\n",
    "import webbrowser\n",
    "from bokeh.io import output_notebook, show, save\n",
    "from bokeh.models import Range1d, Circle, ColumnDataSource, MultiLine, NodesAndLinkedEdges, LabelSet\n",
    "from bokeh.plotting import figure\n",
    "from bokeh.plotting import from_networkx\n",
    "from bokeh.palettes import Spectral8\n",
    "from bokeh.transform import linear_cmap\n",
    "from networkx.algorithms import community"
   ]
  },
  {
   "cell_type": "code",
   "execution_count": 3,
   "metadata": {},
   "outputs": [],
   "source": [
    "def inicial(): #solo es necesario si no se tiene guardado el grafo\n",
    "    path='stack-overflow-developer-survey-2021'\n",
    "    public=pd.read_csv(path+'/survey_results_public.csv')\n",
    "    G = nx.Graph()\n",
    "    \n",
    "    for a in range(len(public)):\n",
    "        nodoLenguaje = public.to_numpy()[a][26]\n",
    "    \n",
    "        if str(nodoLenguaje) != \"nan\":\n",
    "            listaLenguajes = nodoLenguaje.split(';')\n",
    "\n",
    "            # Mejor utiizar itertools.combinations() para generar combinaciones de dos elementos de una lista\n",
    "            for e in itertools.combinations(listaLenguajes,2): # e es una tupla de dos lenguajes\n",
    "                if G.has_edge(e[0],e[1]):\n",
    "                    G.edges[e[0],e[1]]['weight']+=1 # Incrementamos peso\n",
    "                else:\n",
    "                    G.add_edge(e[0],e[1],weight=1) # Añadimos nuevo enlace y/o nodos\n",
    "\n",
    "    #Guardar grafo\n",
    "    nx.write_graphml(G, \"grafoCompleto.graphml\")\n",
    "    return G"
   ]
  },
  {
   "cell_type": "code",
   "execution_count": 4,
   "metadata": {},
   "outputs": [],
   "source": [
    "def leerGrafo():\n",
    "    #Cargar grafo\n",
    "    G = nx.read_graphml(\"grafoCompleto.graphml\")\n",
    "    return G"
   ]
  },
  {
   "cell_type": "code",
   "execution_count": 5,
   "metadata": {},
   "outputs": [],
   "source": [
    "def poda(G, umbral):\n",
    "    H = nx.Graph()\n",
    "    porc = G.number_of_edges()\n",
    "    for e in itertools.combinations(G.nodes(),2): # e es una tupla de dos lenguajes\n",
    "        peso = G.edges[e[0],e[1]]['weight']\n",
    "        if peso >= umbral:\n",
    "            H.add_edge(e[0],e[1],weight=peso)\n",
    "    return H"
   ]
  },
  {
   "cell_type": "code",
   "execution_count": 6,
   "metadata": {},
   "outputs": [],
   "source": [
    "def comunidades(G):\n",
    "    partition = com.best_partition(G)\n",
    "    partOrd = sorted(partition.items(), key=lambda x: x[1])\n",
    "    comunidades = list()\n",
    "    i=0\n",
    "\n",
    "    while i <= partOrd[len(partOrd)-1][1]:\n",
    "        listaNueva = list()\n",
    "        comunidades.append(listaNueva)\n",
    "        i+=1\n",
    "\n",
    "    for p in partOrd:\n",
    "        comunidades[p[1]].append(p[0])\n",
    "        \n",
    "    return comunidades"
   ]
  },
  {
   "cell_type": "code",
   "execution_count": 7,
   "metadata": {},
   "outputs": [],
   "source": [
    "def gradosNodos(G):\n",
    "    lista = list()\n",
    "    for d in G.degree():\n",
    "        lista.append(d[1])\n",
    "    fig=plt.figure(figsize=(7,7))\n",
    "    plt.pie(lista, labels=G.nodes(), autopct='%1.1f%%')\n",
    "    plt.title('Grados', fontsize = 20)\n",
    "    plt.axis(\"equal\")\n",
    "    plt.savefig(\"GraficoSectores.jpg\")"
   ]
  },
  {
   "cell_type": "code",
   "execution_count": 8,
   "metadata": {},
   "outputs": [],
   "source": [
    "def propiedadesRed(G):\n",
    "    eje_x = ['Densidad', 'Transitividad', 'Clustering promedio']\n",
    "    eje_y = [round(nx.density(G),5), round(nx.transitivity(G),5), round(nx.average_clustering(G),5)]\n",
    "    fig=plt.figure()\n",
    "    plt.title('Propiedades de la red', fontsize = 20)\n",
    "    plt.bar(eje_x, eje_y)\n",
    "    j = 0.007\n",
    "    for i in range(len(eje_x)):\n",
    "        plt.annotate(eje_y[i], (-0.1 + i, eje_y[i] + j))\n",
    "    plt.savefig(\"histograma.jpg\")"
   ]
  },
  {
   "cell_type": "code",
   "execution_count": 9,
   "metadata": {},
   "outputs": [],
   "source": [
    "def calculaModularidad(G, particion):\n",
    "    valor = 0\n",
    "    i=0\n",
    "    lista = []\n",
    "    for i in particion:\n",
    "        for j in i:\n",
    "            lista.append(j)\n",
    "    \n",
    "    if len(lista)==len(G.nodes()) and len(particion)==1:\n",
    "        return 0\n",
    "    elif len(lista) == 1:\n",
    "        valor = -1/math.pow(2*len(G.edges()),2)\n",
    "        suma=0\n",
    "        for i in lista:\n",
    "            suma+=math.pow(G.degree(i),2)\n",
    "        resultado = round(suma*valor , 5)\n",
    "        return resultado\n",
    "    else:\n",
    "        suma=0\n",
    "        x=0\n",
    "        for i in particion:\n",
    "            long=len(i)\n",
    "            valA = long/len(G.edges())\n",
    "            se = set()\n",
    "            for j in i:\n",
    "                se.add(j[0])\n",
    "                se.add(j[1])\n",
    "            \n",
    "            su=0\n",
    "            for s in se:\n",
    "                su+=G.degree(s)\n",
    "            valB=su/(2*len(G.edges()))\n",
    "            \n",
    "            valB = math.pow(valB,2)\n",
    "            x = valA - valB\n",
    "            suma+=x\n",
    "        return round(suma, 5)"
   ]
  },
  {
   "cell_type": "code",
   "execution_count": 10,
   "metadata": {},
   "outputs": [],
   "source": [
    "def grafoInteractivo(G):\n",
    "    edges = dict(nx.degree(G))\n",
    "    nx.set_node_attributes(G, name='edge', values=edges)\n",
    "\n",
    "    number_to_adjust_by = 5\n",
    "    adjusted_node_size = dict([(node, edge+number_to_adjust_by) for node, edge in nx.degree(G)])\n",
    "    nx.set_node_attributes(G, name='adjusted_node_size', values=adjusted_node_size)\n",
    "\n",
    "    comun = comunidades(G)\n",
    "\n",
    "    # Create empty dictionaries\n",
    "    communityNumber = {}\n",
    "    modularity_color = {}\n",
    "    modularity = {}\n",
    "    \n",
    "    pagerank = nx.pagerank(G)\n",
    "    degree = nx.degree_centrality(G)\n",
    "    betweenness = nx.betweenness_centrality(G)\n",
    "    closeness = nx.closeness_centrality(G)\n",
    "    eigenvector = nx.eigenvector_centrality(G)\n",
    "\n",
    "    #Loop through each community in the network\n",
    "    for community_number, community in enumerate(comun):\n",
    "        #For each member of the community, add their community number and a distinct color\n",
    "        for name in community: \n",
    "            communityNumber[name] = community_number\n",
    "            modularity_color[name] = Spectral8[community_number]\n",
    "            modularity[name] = calculaModularidad(G,[{name}])\n",
    "        \n",
    "\n",
    "    #Choose colors for node and edge highlighting\n",
    "    node_highlight_color = 'white'\n",
    "    edge_highlight_color = 'black'\n",
    "\n",
    "    nx.set_node_attributes(G, modularity, 'modularity')\n",
    "    nx.set_node_attributes(G, pagerank, 'pagerank')\n",
    "    nx.set_node_attributes(G, degree, 'degree')\n",
    "    nx.set_node_attributes(G, betweenness, 'betweenness')\n",
    "    nx.set_node_attributes(G, closeness, 'closeness')\n",
    "    nx.set_node_attributes(G, eigenvector, 'eigenvector')\n",
    "    nx.set_node_attributes(G, communityNumber, 'communityNumber')\n",
    "    nx.set_node_attributes(G, modularity_color, 'modularity_color')\n",
    "\n",
    "    #Choose attributes from G network to size and color by — setting manual size (e.g. 10) or color (e.g. 'skyblue') also allowed\n",
    "    size_by_this_attribute = 'adjusted_node_size'\n",
    "    color_by_this_attribute = 'modularity_color'\n",
    "\n",
    "    #Choose a title!\n",
    "    title = 'Technologies That I worked With Network'\n",
    "\n",
    "    #Establish which categories will appear when hovering over each node\n",
    "    HOVER_TOOLTIPS = [\n",
    "        (\"Character\", \"@index\"),\n",
    "        (\"Edges\", \"@edge\"),\n",
    "        (\"Modularity\", \"@modularity\"),\n",
    "        (\"Pagerank\", \"@pagerank\"),\n",
    "        (\"Degree\", \"@degree\"),\n",
    "        (\"Betweenness\", \"@betweenness\"),\n",
    "        (\"Closeness\", \"@closeness\"),\n",
    "        (\"Eigenvector\", \"@eigenvector\"),\n",
    "        (\"CommunityNumber\", \"@communityNumber\"),\n",
    "        (\"Modularity Color\", \"$color[swatch]:modularity_color\"),\n",
    "    ]\n",
    "\n",
    "    #Crear grafo \n",
    "    grafo = figure(tooltips = HOVER_TOOLTIPS,tools=\"pan,wheel_zoom,save,reset\", \n",
    "              active_scroll='wheel_zoom',x_range=Range1d(-12, 12), y_range=Range1d(-12, 12), title=title)\n",
    "\n",
    "    network_graph = from_networkx(G, nx.circular_layout, scale=10, center=(0, 0))\n",
    "\n",
    "    #Establecer los tamaños y colores de los nodos según su grado\n",
    "    network_graph.node_renderer.glyph = Circle(size=size_by_this_attribute, fill_color=color_by_this_attribute)\n",
    "\n",
    "    #Resaltar nodos seleccionado\n",
    "    network_graph.node_renderer.hover_glyph = Circle(size=size_by_this_attribute, fill_color=node_highlight_color, line_width=2)\n",
    "    network_graph.node_renderer.selection_glyph = Circle(size=size_by_this_attribute, fill_color=node_highlight_color, line_width=2)\n",
    "\n",
    "    #Opacidad de los enlaces\n",
    "    network_graph.edge_renderer.glyph = MultiLine(line_alpha=0.3, line_width=1)\n",
    "\n",
    "    #Resaltar enlaces conectados sobre nodo seleccionado\n",
    "    network_graph.edge_renderer.selection_glyph = MultiLine(line_color=edge_highlight_color, line_width=2)\n",
    "    network_graph.edge_renderer.hover_glyph = MultiLine(line_color=edge_highlight_color, line_width=2)\n",
    "\n",
    "    #Representación de nodos y enlaces\n",
    "    network_graph.selection_policy = NodesAndLinkedEdges()\n",
    "    network_graph.inspection_policy = NodesAndLinkedEdges()\n",
    "\n",
    "    grafo.renderers.append(network_graph)\n",
    "\n",
    "    #Añadir etiquetas de nombre a los nodos\n",
    "    x, y = zip(*network_graph.layout_provider.graph_layout.values())\n",
    "    node_labels = list(G.nodes())\n",
    "    source = ColumnDataSource({'x': x, 'y': y, 'name': [node_labels[i] for i in range(len(x))]})\n",
    "    labels = LabelSet(x='x', y='y', text='name', source=source, background_fill_color='white', text_font_size='10px', background_fill_alpha=.7)\n",
    "    grafo.renderers.append(labels)\n",
    "\n",
    "    #Mostrar grafo\n",
    "    #show(grafo)\n",
    "\n",
    "    save(grafo, filename=f\"{title}.html\")"
   ]
  },
  {
   "cell_type": "code",
   "execution_count": 11,
   "metadata": {},
   "outputs": [],
   "source": [
    "def crearHTML():\n",
    "    f = open('TFG Enrique Camarero Alonso.html','w')\n",
    "\n",
    "    mensaje = \"\"\"<html>\n",
    "    <head>\n",
    "        <strong>TFG Enrique Camarero Alonso</strong>\n",
    "         <?PHP\n",
    "        echo shell_exec(\"python finalCode.ipynb \\\"325\\\"\");\n",
    "        ?>\n",
    "    </head>\n",
    "    \n",
    "    <body>\n",
    "\n",
    "    <table> \n",
    "    <tr>\n",
    "        <td rowspan=\"2\">\n",
    "            <iframe width=\"760\" height=\"760\" src=\"Technologies That I worked With Network.html\" scrolling=\"no\" frameborder=\"no\" ></iframe>\n",
    "        </td>\n",
    "        <td>\n",
    "            <iframe width=\"500\" height=\"500\" src=\"GraficoSectores.jpg\" scrolling=\"no\" frameborder=\"no\" ></iframe>\n",
    "        </td>\n",
    "    </tr>\n",
    "    <tr>\n",
    "        <td>\n",
    "            <iframe width=\"500\" height=\"300\" src=\"histograma.jpg\" scrolling=\"no\" frameborder=\"no\" ></iframe>\n",
    "        </td>\n",
    "    </tr>\n",
    "    </table>\n",
    "\n",
    "    </body>\n",
    "    </html>\"\"\"\n",
    "\n",
    "    f.write(mensaje)\n",
    "    f.close()\n",
    "\n",
    "    webbrowser.open_new_tab('TFG Enrique Camarero Alonso.html')"
   ]
  },
  {
   "cell_type": "code",
   "execution_count": 12,
   "metadata": {},
   "outputs": [],
   "source": [
    "def ejecutar(umbral):\n",
    "    try:\n",
    "        G = leerGrafo()\n",
    "    except FileNotFoundError:\n",
    "        G = inicial()\n",
    "    \n",
    "    peso = 0\n",
    "    maxi = 0\n",
    "    for e in itertools.combinations(G.nodes(),2): # e es una tupla de dos lenguajes\n",
    "        peso = G.edges[e[0],e[1]]['weight']\n",
    "        if peso > maxi:\n",
    "            maxi = peso\n",
    "    \n",
    "    H = poda(G, maxi * (umbral/100)) #el umbral se calcula como el porcentaje * maximo peso que tiene una pareja de enlaces (en este caso si ponemos 100% saldría todo el grafo)\n",
    "    gradosNodos(H)\n",
    "    propiedadesRed(H)\n",
    "    grafoInteractivo(H)\n",
    "    crearHTML()"
   ]
  },
  {
   "cell_type": "code",
   "execution_count": 13,
   "metadata": {},
   "outputs": [
    {
     "name": "stdout",
     "output_type": "stream",
     "text": [
      "Introduzca el porcentaje del umbral (sin el simbolo %): 100\n"
     ]
    },
    {
     "name": "stderr",
     "output_type": "stream",
     "text": [
      "C:\\Users\\Enrique\\anaconda3\\lib\\site-packages\\bokeh\\io\\saving.py:127: UserWarning: save() called but no resources were supplied and output_file(...) was never called, defaulting to resources.CDN\n",
      "  warn(\"save() called but no resources were supplied and output_file(...) was never called, defaulting to resources.CDN\")\n",
      "C:\\Users\\Enrique\\anaconda3\\lib\\site-packages\\bokeh\\io\\saving.py:140: UserWarning: save() called but no title was supplied and output_file(...) was never called, using default title 'Bokeh Plot'\n",
      "  warn(\"save() called but no title was supplied and output_file(...) was never called, using default title 'Bokeh Plot'\")\n"
     ]
    },
    {
     "data": {
      "image/png": "[encoded data removed]",
      "text/plain": [
       "<Figure size 504x504 with 1 Axes>"
      ]
     },
     "metadata": {},
     "output_type": "display_data"
    },
    {
     "data": {
      "image/png": "[encoded data removed]",
      "text/plain": [
       "<Figure size 432x288 with 1 Axes>"
      ]
     },
     "metadata": {
      "needs_background": "light"
     },
     "output_type": "display_data"
    }
   ],
   "source": [
    "umbral = input(\"Introduzca el porcentaje del umbral (sin el simbolo %): \")\n",
    "\n",
    "while float(umbral) < 0 or float(umbral) > 100:\n",
    "    umbral = input(\"Introduzca el porcentaje del umbral (sin el simbolo %): \")\n",
    "    \n",
    "ejecutar(float(umbral))"
   ]
  },
  {
   "cell_type": "code",
   "execution_count": null,
   "metadata": {},
   "outputs": [],
   "source": []
  },
  {
   "cell_type": "code",
   "execution_count": null,
   "metadata": {},
   "outputs": [],
   "source": []
  }
 ],
 "metadata": {
  "kernelspec": {
   "display_name": "Python 3",
   "language": "python",
   "name": "python3"
  },
  "language_info": {
   "codemirror_mode": {
    "name": "ipython",
    "version": 3
   },
   "file_extension": ".py",
   "mimetype": "text/x-python",
   "name": "python",
   "nbconvert_exporter": "python",
   "pygments_lexer": "ipython3",
   "version": "3.8.3"
  }
 },
 "nbformat": 4,
 "nbformat_minor": 4
}
